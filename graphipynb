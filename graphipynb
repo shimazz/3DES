{
  "nbformat": 4,
  "nbformat_minor": 0,
  "metadata": {
    "colab": {
      "provenance": [],
      "authorship_tag": "ABX9TyMe3NedfdB3OnwJax+5MXnZ",
      "include_colab_link": true
    },
    "kernelspec": {
      "name": "python3",
      "display_name": "Python 3"
    },
    "language_info": {
      "name": "python"
    }
  },
  "cells": [
    {
      "cell_type": "markdown",
      "metadata": {
        "id": "view-in-github",
        "colab_type": "text"
      },
      "source": [
        "<a href=\"https://colab.research.google.com/github/shimazz/3DES/blob/main/graphipynb\" target=\"_parent\"><img src=\"https://colab.research.google.com/assets/colab-badge.svg\" alt=\"Open In Colab\"/></a>"
      ]
    },
    {
      "cell_type": "code",
      "execution_count": 2,
      "metadata": {
        "id": "ikqHBSAuPu-A"
      },
      "outputs": [],
      "source": [
        "import networkx as nx\n",
        "G=nx.Graph()\n"
      ]
    },
    {
      "cell_type": "code",
      "source": [
        "G.add_node(1)\n",
        "G.add_node(2)\n",
        "G.add_node(3)\n",
        "G.add_edge(2,3)\n",
        "G.add_edge(3,1)\n",
        "G.add_nodes_from([4,5])\n",
        "G.add_edge(5,1)\n",
        "G.add_nodes_from([6,7,8])\n",
        "G.add_edges_from([(6,7),(7,8)])\n",
        "nx.draw(G)"
      ],
      "metadata": {
        "colab": {
          "base_uri": "https://localhost:8080/",
          "height": 516
        },
        "id": "zo2dcWN9XJMW",
        "outputId": "fd7c5132-d999-4c51-8c66-145ee3783c50"
      },
      "execution_count": 12,
      "outputs": [
        {
          "output_type": "display_data",
          "data": {
            "text/plain": [
              "<Figure size 640x480 with 1 Axes>"
            ],
            "image/png": "[encoded data removed]"
          },
          "metadata": {}
        }
      ]
    },
    {
      "cell_type": "code",
      "source": [
        "G.number_of_nodes()\n"
      ],
      "metadata": {
        "colab": {
          "base_uri": "https://localhost:8080/"
        },
        "id": "CtFs0mCzXITj",
        "outputId": "eab25c7c-7efa-4ab8-84b0-84871750dbec"
      },
      "execution_count": 13,
      "outputs": [
        {
          "output_type": "execute_result",
          "data": {
            "text/plain": [
              "8"
            ]
          },
          "metadata": {},
          "execution_count": 13
        }
      ]
    },
    {
      "cell_type": "code",
      "source": [
        "G.number_of_edges()"
      ],
      "metadata": {
        "colab": {
          "base_uri": "https://localhost:8080/"
        },
        "id": "WKd1KFzmM5VC",
        "outputId": "fd38351e-6515-45e2-de77-d1d9f52585c1"
      },
      "execution_count": 14,
      "outputs": [
        {
          "output_type": "execute_result",
          "data": {
            "text/plain": [
              "6"
            ]
          },
          "metadata": {},
          "execution_count": 14
        }
      ]
    },
    {
      "cell_type": "code",
      "source": [
        "G.edges"
      ],
      "metadata": {
        "colab": {
          "base_uri": "https://localhost:8080/"
        },
        "id": "pVoNyvWdN9yY",
        "outputId": "d039c718-c20a-4fbc-d60d-9df28ba1a426"
      },
      "execution_count": 15,
      "outputs": [
        {
          "output_type": "execute_result",
          "data": {
            "text/plain": [
              "EdgeView([(1, 2), (1, 3), (1, 5), (2, 3), (6, 7), (7, 8)])"
            ]
          },
          "metadata": {},
          "execution_count": 15
        }
      ]
    },
    {
      "cell_type": "code",
      "source": [
        "G.nodes"
      ],
      "metadata": {
        "colab": {
          "base_uri": "https://localhost:8080/"
        },
        "id": "RRoSA31bOBLJ",
        "outputId": "65c8a0b4-3299-4dd4-c38e-be2fd0ed35fc"
      },
      "execution_count": 16,
      "outputs": [
        {
          "output_type": "execute_result",
          "data": {
            "text/plain": [
              "NodeView((1, 2, 3, 4, 5, 6, 7, 8))"
            ]
          },
          "metadata": {},
          "execution_count": 16
        }
      ]
    }
  ]
}